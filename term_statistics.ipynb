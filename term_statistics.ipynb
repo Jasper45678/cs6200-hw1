{
  "nbformat": 4,
  "nbformat_minor": 0,
  "metadata": {
    "colab": {
      "name": "term-statistics.ipynb",
      "provenance": [],
      "include_colab_link": true
    },
    "kernelspec": {
      "name": "python3",
      "display_name": "Python 3"
    },
    "language_info": {
      "name": "python"
    }
  },
  "cells": [
    {
      "cell_type": "markdown",
      "metadata": {
        "id": "view-in-github",
        "colab_type": "text"
      },
      "source": [
        "<a href=\"https://colab.research.google.com/github/Jasper45678/cs6200-hw1/blob/main/term_statistics.ipynb\" target=\"_parent\"><img src=\"https://colab.research.google.com/assets/colab-badge.svg\" alt=\"Open In Colab\"/></a>"
      ]
    },
    {
      "cell_type": "markdown",
      "metadata": {
        "id": "2yYCQrU0J5C5"
      },
      "source": [
        "# Working with Terms and Documents\n",
        "\n",
        "This first homework assignment starts off with term statistics computations and graphing. In the final section (for CS6200 students), you collect new documents to experiment with.\n",
        "\n",
        "Read through this Jupyter notebook and fill in the parts marked with `TODO`."
      ]
    },
    {
      "cell_type": "markdown",
      "metadata": {
        "id": "tA4bCPS1MmAx"
      },
      "source": [
        "## Sample Data\n",
        "\n",
        "Start by looking at some sample data. We donwload the counts of terms in documents for the first one million tokens of a newswire collection."
      ]
    },
    {
      "cell_type": "code",
      "metadata": {
        "id": "W-IMINS4IFUg",
        "colab": {
          "base_uri": "https://localhost:8080/"
        },
        "outputId": "ddd47a6f-5b95-4cf4-c456-bfacf35b8d92"
      },
      "source": [
        "!wget -O ap201001.json.gz https://github.com/dasmiq/cs6200-hw1/blob/main/ap201001.json.gz?raw=true\n",
        "!gunzip ap201001.json.gz"
      ],
      "execution_count": 61,
      "outputs": [
        {
          "output_type": "stream",
          "name": "stdout",
          "text": [
            "--2023-09-21 20:19:19--  https://github.com/dasmiq/cs6200-hw1/blob/main/ap201001.json.gz?raw=true\n",
            "Resolving github.com (github.com)... 140.82.113.3\n",
            "Connecting to github.com (github.com)|140.82.113.3|:443... connected.\n",
            "HTTP request sent, awaiting response... 302 Found\n",
            "Location: https://github.com/dasmiq/cs6200-hw1/raw/main/ap201001.json.gz [following]\n",
            "--2023-09-21 20:19:19--  https://github.com/dasmiq/cs6200-hw1/raw/main/ap201001.json.gz\n",
            "Reusing existing connection to github.com:443.\n",
            "HTTP request sent, awaiting response... 302 Found\n",
            "Location: https://raw.githubusercontent.com/dasmiq/cs6200-hw1/main/ap201001.json.gz [following]\n",
            "--2023-09-21 20:19:19--  https://raw.githubusercontent.com/dasmiq/cs6200-hw1/main/ap201001.json.gz\n",
            "Resolving raw.githubusercontent.com (raw.githubusercontent.com)... 185.199.108.133, 185.199.109.133, 185.199.110.133, ...\n",
            "Connecting to raw.githubusercontent.com (raw.githubusercontent.com)|185.199.108.133|:443... connected.\n",
            "HTTP request sent, awaiting response... 200 OK\n",
            "Length: 2854711 (2.7M) [application/octet-stream]\n",
            "Saving to: ‘ap201001.json.gz’\n",
            "\n",
            "\rap201001.json.gz      0%[                    ]       0  --.-KB/s               \rap201001.json.gz    100%[===================>]   2.72M  --.-KB/s    in 0.02s   \n",
            "\n",
            "2023-09-21 20:19:19 (120 MB/s) - ‘ap201001.json.gz’ saved [2854711/2854711]\n",
            "\n",
            "gzip: ap201001.json already exists; do you wish to overwrite (y or n)? n\n",
            "\tnot overwritten\n"
          ]
        }
      ]
    },
    {
      "cell_type": "markdown",
      "metadata": {
        "id": "_SEFjGZvM4lY"
      },
      "source": [
        "We convert this file with one JSON record on each line to a list of dictionaries."
      ]
    },
    {
      "cell_type": "code",
      "metadata": {
        "id": "6CrLD5SOIMz1"
      },
      "source": [
        "import json\n",
        "rawfile = open('ap201001.json')\n",
        "terms = [json.loads(line) for line in rawfile]"
      ],
      "execution_count": 62,
      "outputs": []
    },
    {
      "cell_type": "markdown",
      "metadata": {
        "id": "Rg4P9XJJM_lZ"
      },
      "source": [
        "Here are the first ten records, showing the count of each term for each document and field. In this dataset, field only takes the values `body` or `title`."
      ]
    },
    {
      "cell_type": "code",
      "metadata": {
        "colab": {
          "base_uri": "https://localhost:8080/"
        },
        "id": "g8GdOuyzI0wm",
        "outputId": "5de54501-362b-4ee5-ccb1-4780356d6007"
      },
      "source": [
        "terms[1:10]"
      ],
      "execution_count": 63,
      "outputs": [
        {
          "output_type": "execute_result",
          "data": {
            "text/plain": [
              "[{'id': 'APW_ENG_20100101.0001', 'field': 'body', 'term': 'about', 'count': 1},\n",
              " {'id': 'APW_ENG_20100101.0001', 'field': 'body', 'term': 'abuse', 'count': 1},\n",
              " {'id': 'APW_ENG_20100101.0001',\n",
              "  'field': 'body',\n",
              "  'term': 'academy',\n",
              "  'count': 1},\n",
              " {'id': 'APW_ENG_20100101.0001',\n",
              "  'field': 'body',\n",
              "  'term': 'accused',\n",
              "  'count': 2},\n",
              " {'id': 'APW_ENG_20100101.0001',\n",
              "  'field': 'body',\n",
              "  'term': 'actress',\n",
              "  'count': 1},\n",
              " {'id': 'APW_ENG_20100101.0001', 'field': 'body', 'term': 'ad', 'count': 1},\n",
              " {'id': 'APW_ENG_20100101.0001', 'field': 'body', 'term': 'after', 'count': 1},\n",
              " {'id': 'APW_ENG_20100101.0001',\n",
              "  'field': 'body',\n",
              "  'term': 'agenda',\n",
              "  'count': 1},\n",
              " {'id': 'APW_ENG_20100101.0001',\n",
              "  'field': 'body',\n",
              "  'term': 'agreed',\n",
              "  'count': 1}]"
            ]
          },
          "metadata": {},
          "execution_count": 63
        }
      ]
    },
    {
      "cell_type": "markdown",
      "metadata": {
        "id": "q-CjFLXH3BJg"
      },
      "source": [
        "Each record has four fields:\n",
        "* `id`, with the identifier for the document;\n",
        "* `field`, with the region of the document containing a given term;\n",
        "* `term`, with the lower-cased term; and\n",
        "* `count`, with the number of times each term occurred in that field and document."
      ]
    },
    {
      "cell_type": "markdown",
      "metadata": {
        "id": "2H5yBvEVNUPr"
      },
      "source": [
        "## Computing Term Statistics\n"
      ]
    },
    {
      "cell_type": "markdown",
      "metadata": {
        "id": "qhDt23kKv0Uy"
      },
      "source": [
        "If we look at the most frequent terms for a given document, we mostly see common function words, such as `the`, `and`, and `of`. Start exploring the dataset by computing some of these basic term statistics. You can make your life easier using data frame libraries such as `pandas`, core python libraries such as `collections`, or just simple list comprehensions.\n",
        "\n",
        "Feel free to define helper functions in your code before computing the statistics we're looking for."
      ]
    },
    {
      "cell_type": "code",
      "metadata": {
        "id": "2Zy5qR562nZ5",
        "colab": {
          "base_uri": "https://localhost:8080/"
        },
        "outputId": "7e327291-1060-469c-e7a2-3040b159eabe"
      },
      "source": [
        "# TODO: Print the 10 terms from document APW_ENG_20100101.0001 with the highest count.\n",
        "# import library\n",
        "import pandas as pd\n",
        "\n",
        "# Create a DataFrame from the JSON data\n",
        "df = pd.DataFrame(terms)\n",
        "\n",
        "# Filter the DataFrame to include only the rows with the specified document ID\n",
        "document_id = 'APW_ENG_20100101.0001'\n",
        "filtered_df = df[df['id'] == document_id]\n",
        "\n",
        "# Group by the 'term' column and sum the 'count' column to get term counts\n",
        "term_counts = filtered_df.groupby('term')['count'].sum()\n",
        "\n",
        "# Sort the terms by count in descending order and print the top 10 terms\n",
        "top_terms = term_counts.sort_values(ascending=False).head(10)\n",
        "\n",
        "# Print the top 10 terms and their counts\n",
        "print(top_terms)"
      ],
      "execution_count": 64,
      "outputs": [
        {
          "output_type": "stream",
          "name": "stdout",
          "text": [
            "term\n",
            "a         16\n",
            "the       11\n",
            "to        10\n",
            "brooks    10\n",
            "of        10\n",
            "and       10\n",
            "he         9\n",
            "in         9\n",
            "gomez      8\n",
            "for        6\n",
            "Name: count, dtype: int64\n"
          ]
        }
      ]
    },
    {
      "cell_type": "code",
      "metadata": {
        "id": "U7OwCo0w5R1q",
        "colab": {
          "base_uri": "https://localhost:8080/"
        },
        "outputId": "031cc695-7f6d-46be-e392-e16a8389346e"
      },
      "source": [
        "# TODO: Print the 10 terms with the highest total count in the corpus.\n",
        "\n",
        "# Create a DataFrame from the JSON data\n",
        "df = pd.DataFrame(terms)\n",
        "\n",
        "# Group by the 'term' column and sum the 'count' column to get term counts for the entire corpus\n",
        "corpus_term_counts = df.groupby('term')['count'].sum()\n",
        "\n",
        "# Sort the terms by count in descending order and print the top 10 terms\n",
        "top_terms = corpus_term_counts.sort_values(ascending=False).head(10)\n",
        "\n",
        "# Print the top 10 terms and their counts\n",
        "print(top_terms)"
      ],
      "execution_count": 65,
      "outputs": [
        {
          "output_type": "stream",
          "name": "stdout",
          "text": [
            "term\n",
            "the     62216\n",
            "to      26931\n",
            "in      25659\n",
            "a       23383\n",
            "of      22326\n",
            "and     22125\n",
            "said    10888\n",
            "for      9716\n",
            "on       9382\n",
            "that     8942\n",
            "Name: count, dtype: int64\n"
          ]
        }
      ]
    },
    {
      "cell_type": "markdown",
      "metadata": {
        "id": "dnNEUACW23Dd"
      },
      "source": [
        "Raw counts may not be the most informative statistic. One common improvement is to use *inverse document frequency*, the inverse of the proportion of documents that contain a given term."
      ]
    },
    {
      "cell_type": "code",
      "metadata": {
        "id": "uiUA502P2QkH",
        "colab": {
          "base_uri": "https://localhost:8080/"
        },
        "outputId": "b039764d-843e-4185-ce66-26624821d0bf"
      },
      "source": [
        "# TODO: Compute the number of distinct documents in the collection.\n",
        "# Create a set to store unique document IDs\n",
        "unique_document_ids = set()\n",
        "\n",
        "# Iterate through the terms and add unique document IDs to the set\n",
        "for term_info in terms:\n",
        "    doc_id = term_info['id']\n",
        "    unique_document_ids.add(doc_id)\n",
        "\n",
        "# Compute the number of distinct documents in the collection\n",
        "N = len(unique_document_ids)\n",
        "\n",
        "# Print the number of distinct documents\n",
        "print(f'Number of distinct documents in the collection: {N}')"
      ],
      "execution_count": 66,
      "outputs": [
        {
          "output_type": "stream",
          "name": "stdout",
          "text": [
            "Number of distinct documents in the collection: 2778\n"
          ]
        }
      ]
    },
    {
      "cell_type": "code",
      "source": [
        "# TODO: Compute the number of distinct documents each term appears in\n",
        "# and store in a dictionary.\n",
        "df = dict()\n",
        "\n",
        "# Iterate through the terms and count the number of distinct documents each term appears in\n",
        "for term_info in terms:\n",
        "    term = term_info['term']\n",
        "    doc_id = term_info['id']\n",
        "\n",
        "    if term in df:\n",
        "        df[term].add(doc_id)\n",
        "    else:\n",
        "        df[term] = {doc_id}\n",
        "\n",
        "# Calculate the number of distinct documents each term appears in\n",
        "for term, document_set in df.items():\n",
        "    df[term] = len(document_set)\n"
      ],
      "metadata": {
        "id": "BYVbeCTcFMlr"
      },
      "execution_count": 67,
      "outputs": []
    },
    {
      "cell_type": "code",
      "metadata": {
        "id": "_XMPAKYNCq6Y",
        "colab": {
          "base_uri": "https://localhost:8080/"
        },
        "outputId": "7be60628-cde3-477a-c73b-6e49320b7f85"
      },
      "source": [
        "# TODO: Print the relative document frequency of 'the',\n",
        "# i.e., the number of documents that contain 'the' divided by N.\n",
        "\n",
        "# Term for which you want to compute the relative document frequency\n",
        "term_to_check = 'the'\n",
        "\n",
        "# Calculate the relative document frequency\n",
        "if term_to_check in df:\n",
        "    relative_document_frequency = df[term_to_check] / N\n",
        "    print(f'Relative Document Frequency of \"{term_to_check}\": {relative_document_frequency:.4f}')\n",
        "else:\n",
        "    print(f'Term \"{term_to_check}\" not found in the collection.')"
      ],
      "execution_count": 68,
      "outputs": [
        {
          "output_type": "stream",
          "name": "stdout",
          "text": [
            "Relative Document Frequency of \"the\": 0.9705\n"
          ]
        }
      ]
    },
    {
      "cell_type": "markdown",
      "metadata": {
        "id": "ohFmwtc7Chy3"
      },
      "source": [
        "Empricially, we usually see better retrieval results if we rescale term frequency (within documents) and inverse document frequency (across documents) with the log function. Let the `tfidf` of term _t_ in document _d_ be:\n",
        "```\n",
        "tfidf(t, d) = log(count(t, d) + 1) * log(N / df(t))\n",
        "```\n",
        "\n",
        "Later in the course, we will show a probabilistic derivation of this quantity based on smoothing language models."
      ]
    },
    {
      "cell_type": "code",
      "metadata": {
        "id": "Fmyj4v_uHdyo"
      },
      "source": [
        "# TODO: Compute the tf-idf value for each term in each document.\n",
        "# Take the raw term data and add a tfidf field to each record.\n",
        "\n",
        "#import library\n",
        "from sklearn.feature_extraction.text import TfidfVectorizer\n",
        "\n",
        "# Create a DataFrame from the JSON data\n",
        "df = pd.DataFrame(terms)\n",
        "\n",
        "# Combine terms by document ID\n",
        "documents = df.groupby('id')['term'].apply(' '.join)\n",
        "\n",
        "# Create a TfidfVectorizer\n",
        "tfidf_vectorizer = TfidfVectorizer()\n",
        "\n",
        "# Fit and transform the documents to compute tf-idf values\n",
        "tfidf_matrix = tfidf_vectorizer.fit_transform(documents)\n",
        "\n",
        "# Convert the tf-idf matrix to a DataFrame\n",
        "tfidf_df = pd.DataFrame(tfidf_matrix.toarray(), columns=tfidf_vectorizer.get_feature_names_out())"
      ],
      "execution_count": 69,
      "outputs": []
    },
    {
      "cell_type": "markdown",
      "source": [
        "It took so much time to run by defining a function for tfidf, so I used a TfidVectorizer from sklearn.\n",
        "\n",
        "reference link:https://scikit-learn.org/stable/modules/generated/sklearn.feature_extraction.text.TfidfVectorizer.html"
      ],
      "metadata": {
        "id": "Gir6-C6fIXw0"
      }
    },
    {
      "cell_type": "code",
      "metadata": {
        "id": "NlXQmMO9HxH0",
        "colab": {
          "base_uri": "https://localhost:8080/"
        },
        "outputId": "69cb7138-3931-4151-b643-476bc6cd44ee"
      },
      "source": [
        "# Sort the DataFrame by 'tfidf' in descending order and select the top 20 rows\n",
        "top_20_tfidf_pairs = tfidf_df.stack().reset_index().rename(columns={0: 'tfidf'}).sort_values(by='tfidf', ascending=False).head(20)\n",
        "\n",
        "# Print the top 20 term-document pairs with the highest tf-idf values\n",
        "print(top_20_tfidf_pairs)"
      ],
      "execution_count": 70,
      "outputs": [
        {
          "output_type": "stream",
          "name": "stdout",
          "text": [
            "          level_0     level_1     tfidf\n",
            "28536603     1086   reopening  0.661006\n",
            "39459863     1502   reaffirms  0.587749\n",
            "68163092     2595    shaffner  0.577752\n",
            "40673931     1548       veron  0.551499\n",
            "39316219     1497  disastrous  0.547925\n",
            "8906139       339      closes  0.538301\n",
            "56466550     2150        gold  0.536328\n",
            "15312489      583    capsizes  0.536311\n",
            "24351793      927        gold  0.534203\n",
            "45945303     1749  prudential  0.531832\n",
            "44835671     1707     injures  0.527988\n",
            "25307204      963    riquelme  0.527112\n",
            "11269086      429      cheney  0.525286\n",
            "24317563      926   bacharach  0.523116\n",
            "69129965     2632         omv  0.522536\n",
            "55093166     2098     bahrain  0.521381\n",
            "24763966      943   bacharach  0.520591\n",
            "70318292     2677      sutton  0.516220\n",
            "40120290     1527     summons  0.515965\n",
            "40221179     1531  rajaratnam  0.514746\n"
          ]
        }
      ]
    },
    {
      "cell_type": "markdown",
      "metadata": {
        "id": "f61xitl1IApl"
      },
      "source": [
        "## Plotting Term Distributions\n",
        "\n",
        "Besides frequencies and tf-idf values within documents, it is often helpful to look at the distrubitions of word frequencies in the whole collection. In class, we talk about the Zipf distribution of word rank versus frequency and Heaps' Law relating the number of distinct words to the number of tokens.\n",
        "\n",
        "We might examine these distributions to see, for instance, if an unexpectedly large number of very rare terms occurs, which might indicate noise added to our data."
      ]
    },
    {
      "cell_type": "code",
      "metadata": {
        "id": "fsM5k1_5Jj7Y",
        "colab": {
          "base_uri": "https://localhost:8080/"
        },
        "outputId": "901b8931-eb18-45f4-dc69-819ff05c1327"
      },
      "source": [
        "# TODO: Compute a list of the distinct words in this collection and sort it in descending order of frequency.\n",
        "# Thus frequency[0] should contain the word \"the\" and the count 62216.\n",
        "\n",
        "# Create a DataFrame from the JSON data\n",
        "df = pd.DataFrame(terms)\n",
        "\n",
        "# Group by the 'term' column and sum the 'count' column to get term counts for the entire corpus\n",
        "corpus_term_counts = df.groupby('term')['count'].sum()\n",
        "\n",
        "# Sort the terms by count in descending order\n",
        "sorted_terms = corpus_term_counts.sort_values(ascending=False)\n",
        "\n",
        "# Create a DataFrame for the top terms\n",
        "top_terms_df = sorted_terms.reset_index()\n",
        "top_terms_df.columns = ['Term', 'Count']\n",
        "\n",
        "# Convert the top terms DataFrame to a list of lists\n",
        "frequency = top_terms_df.values.tolist()\n",
        "\n",
        "# print the first term in the list to check\n",
        "print(frequency[0])"
      ],
      "execution_count": 71,
      "outputs": [
        {
          "output_type": "stream",
          "name": "stdout",
          "text": [
            "['the', 62216]\n"
          ]
        }
      ]
    },
    {
      "cell_type": "code",
      "metadata": {
        "id": "hdtc14EULkxS",
        "colab": {
          "base_uri": "https://localhost:8080/",
          "height": 569
        },
        "outputId": "55164621-8cf3-454c-9695-42ca33f8acb7"
      },
      "source": [
        "# TODO: Plot a graph of the log of the rank (starting at 1) on the x-axis,\n",
        "# against the log of the frequency on the y-axis. You may use the matplotlib\n",
        "# or other library.\n",
        "\n",
        "# import library\n",
        "import matplotlib.pyplot as plt\n",
        "\n",
        "# Calculate the rank (starting at 1)\n",
        "top_terms_df['Rank'] = range(1, len(top_terms_df) + 1)\n",
        "\n",
        "# Plot the log-log graph\n",
        "plt.figure(figsize=(10, 6))\n",
        "plt.loglog(top_terms_df['Rank'], top_terms_df['Count'], marker='o', linestyle='-')\n",
        "plt.title('Log-Log Plot of Term Frequency vs. Rank')\n",
        "plt.xlabel('Log(Rank)')\n",
        "plt.ylabel('Log(Frequency)')\n",
        "plt.grid(True)\n",
        "\n",
        "# Show the plot\n",
        "plt.show()"
      ],
      "execution_count": 72,
      "outputs": [
        {
          "output_type": "display_data",
          "data": {
            "text/plain": [
              "<Figure size 1000x600 with 1 Axes>"
            ],
            "image/png": "[encoded data removed]"
          },
          "metadata": {}
        }
      ]
    },
    {
      "cell_type": "code",
      "source": [
        "# TODO: Compute the number of tokens in the corpus.\n",
        "# Remember to count each occurrence of each word. For instance, the 62,216\n",
        "# instances of \"the\" will all count here.\n",
        "\n",
        "# Calculate the number of tokens in the corpus\n",
        "ntokens = sum(term_info['count'] for term_info in terms)\n",
        "\n",
        "# Print the number of tokens\n",
        "print(f'Number of tokens in the corpus: {ntokens}')"
      ],
      "metadata": {
        "id": "-WdHjFCSC7WC",
        "colab": {
          "base_uri": "https://localhost:8080/"
        },
        "outputId": "eafb876e-a854-4689-8b2c-a52eadd44808"
      },
      "execution_count": 73,
      "outputs": [
        {
          "output_type": "stream",
          "name": "stdout",
          "text": [
            "Number of tokens in the corpus: 1000000\n"
          ]
        }
      ]
    },
    {
      "cell_type": "code",
      "source": [
        "# TODO: Compute the proportion of tokens made up by the top 10 most\n",
        "# frequent words.\n",
        "\n",
        "\n",
        "# Calculate the proportion of tokens made up by the top 10 most frequent words\n",
        "top_10_terms = sorted_terms.head(10)\n",
        "proportion = top_10_terms.sum() / ntokens\n",
        "\n",
        "# Print the proportion\n",
        "print(f'Proportion of tokens made up by the top 10 most frequent words: {proportion:.4f}')"
      ],
      "metadata": {
        "id": "V_7wOcqKAz9m",
        "colab": {
          "base_uri": "https://localhost:8080/"
        },
        "outputId": "496fba2e-c63d-44d4-dabe-e28bea657ee9"
      },
      "execution_count": 74,
      "outputs": [
        {
          "output_type": "stream",
          "name": "stdout",
          "text": [
            "Proportion of tokens made up by the top 10 most frequent words: 0.2216\n"
          ]
        }
      ]
    },
    {
      "cell_type": "code",
      "source": [
        "# TODO: Compute the proportion of tokens made up by the words that occur\n",
        "# exactly once in this collection.\n",
        "\n",
        "# Count the number of words that occur exactly once\n",
        "single_occurrence_words = (corpus_term_counts == 1).sum()\n",
        "\n",
        "# Calculate the proportion of tokens made up by single-occurrence words\n",
        "proportion = single_occurrence_words / ntokens\n",
        "\n",
        "# Print the proportion\n",
        "print(f'Proportion of tokens made up by words that occur exactly once: {proportion:.4f}')"
      ],
      "metadata": {
        "id": "uF-1VxcZBXMM",
        "colab": {
          "base_uri": "https://localhost:8080/"
        },
        "outputId": "fae0e092-fc27-4e7a-902d-4f76f1f46358"
      },
      "execution_count": 75,
      "outputs": [
        {
          "output_type": "stream",
          "name": "stdout",
          "text": [
            "Proportion of tokens made up by words that occur exactly once: 0.0066\n"
          ]
        }
      ]
    },
    {
      "cell_type": "markdown",
      "metadata": {
        "id": "GdiUXaXZMFqT"
      },
      "source": [
        "## Acquiring New Documents (for CS6200)\n",
        "\n",
        "For this assignment so far, you've worked with data that's already been extracted, tokenized, and counted. In this final section, you'll explore acquiring new data.\n",
        "\n",
        "One common way of acquiring data is through application programming interfaces (APIs) to various databases. The Library of Congress's [_Chronicling America_](https://chroniclingamerica.loc.gov/) site aggregates digitized US newspapers from the past two hundred years, such as the [_Seattle Star_](https://chroniclingamerica.loc.gov/lccn/sn87093407/1923-09-22/ed-1/seq-1/) from 100 years ago.\n",
        "\n",
        "You can use [the API](https://chroniclingamerica.loc.gov/about/api/) to retrieve JSON data listing all issues of the _Seattle Star_: https://chroniclingamerica.loc.gov/lccn/sn87093407.json\n",
        "\n",
        "Note the list in the `issues` field. For example, here is the record for the September 22, 1923, issue: https://chroniclingamerica.loc.gov/lccn/sn87093407/1923-09-22/ed-1.json\n",
        "\n",
        "In that issue record, you'll see records for each page, e.g.: https://chroniclingamerica.loc.gov/lccn/sn87093407/1923-09-22/ed-1/seq-1.json\n",
        "\n",
        "And inside that page record, you'll see links to data about that page in various data formats, such as JPEG, PDF, and plain text, which is what we want here: https://chroniclingamerica.loc.gov/lccn/sn87093407/1923-09-22/ed-1/seq-1/ocr.txt\n",
        "\n",
        "This plain text was transcribed from the old page images using optical character recognition (OCR) models, and so contains errors.\n",
        "\n",
        "Your task is to acquire and analyze the issues of the _Seattle Star_ from the month of September, 1923, i.e., the issues with a date field that starts with `1923-09`. This should be about the same amount of data as the million words from the Associated Press you analyzed in the last section."
      ]
    },
    {
      "cell_type": "markdown",
      "metadata": {
        "id": "EGPVnXv2O6AN"
      },
      "source": [
        "**TODO**: Write code that calls the _Chronicling America_ API to download and extract the text from the _Seattle Star_ from September 1923. You can use the `json` library from above and any other libraries you wish to fetch data from URLs. As you would when working with any production API, you may need to limit your rate of requests."
      ]
    },
    {
      "cell_type": "code",
      "metadata": {
        "id": "VeDDz1SaPLik"
      },
      "source": [
        "# TODO: Data acquisition code here."
      ],
      "execution_count": 76,
      "outputs": []
    },
    {
      "cell_type": "markdown",
      "metadata": {
        "id": "L1-oRTixPKbw"
      },
      "source": [
        "**TODO**: Write code to tokenize the text and count the resulting terms in each document. Since this data comes from automatically transcribing printed pages, some words may be hyphenated across line breaks. There is more than one right way to tokenize this data, so add comments to your code documenting your choices."
      ]
    },
    {
      "cell_type": "code",
      "metadata": {
        "id": "Ydsh0h74Pnlh"
      },
      "source": [
        "# TODO: Tokenization code here."
      ],
      "execution_count": 77,
      "outputs": []
    },
    {
      "cell_type": "markdown",
      "metadata": {
        "id": "D-boFCotQ4Ur"
      },
      "source": [
        "**TODO**: Plot a graph of the log rank against log frequency for your collection, as you did for the sample collection above."
      ]
    },
    {
      "cell_type": "code",
      "source": [
        "# TODO: Plotting code here."
      ],
      "metadata": {
        "id": "-Z35asgBjiqO"
      },
      "execution_count": 78,
      "outputs": []
    },
    {
      "cell_type": "markdown",
      "source": [
        "**TODO**: What do you observe about the differences between the distributions of the Associated Press and Seattle Star collections? In this text box, give some possible reasons for these differences."
      ],
      "metadata": {
        "id": "D5B-h__CjpvI"
      }
    }
  ]
}